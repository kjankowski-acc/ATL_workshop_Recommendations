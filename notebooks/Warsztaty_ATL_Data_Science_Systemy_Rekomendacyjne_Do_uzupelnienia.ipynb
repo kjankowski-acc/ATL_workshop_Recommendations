{
 "cells": [
  {
   "cell_type": "markdown",
   "metadata": {},
   "source": [
    "# Wprowadzenie do systemów rekomendacyjnych"
   ]
  },
  {
   "cell_type": "markdown",
   "metadata": {},
   "source": [
    "Warsztaty prowadzone w ramach serii Accenture Training Labs 2022.\n",
    "Celem tego notebooka jest wygenerowanie rekomendacji dla Klienta indywidualnego w ramach dwóch Use Casów - prostych rekomendacji i rekomendacji spersonalizowanych.\n"
   ]
  },
  {
   "cell_type": "markdown",
   "metadata": {},
   "source": [
    "### Instrukcja uzupełniania\n",
    "Miejsca gdzie należy napisać/uzupełnić kod znajdują się bezpośrednio **pod** komentarzami oznaczonymi jako `TODO`.\n",
    "\n",
    "Przykład:\n",
    "```python\n",
    "a = some_function()\n",
    "# TODO: stwórz nową zmienną z napisem 'zmienna'\n",
    "b = ...\n",
    "# TODO: wypisz zmienną b\n",
    "...\n",
    "```\n",
    "Rozwiązanie:\n",
    "```python\n",
    "a = some_function()\n",
    "# TODO: stwórz nową zmienną z napisem 'zmienna'\n",
    "b = 'zmienna'\n",
    "# TODO: wypisz zmienną b\n",
    "print(b)\n",
    "```\n",
    "Jeśli wymagane jest odpowiednie nazewnictwo zmiennych będą one zadeklarowane z przypisanym operatorem ```...``` (tak jak jest to pokazane powyżej).\n",
    "\n",
    "Jeśli nie uda Ci się wykonać zadań opisanych w `TODO`, na samym dole notebooka znajduje się ściąga pozwalająca uzupełnić brakujące linijki i kontynuować wasztat."
   ]
  },
  {
   "cell_type": "markdown",
   "metadata": {},
   "source": [
    "### Importy bibliotek"
   ]
  },
  {
   "cell_type": "code",
   "execution_count": null,
   "metadata": {},
   "outputs": [],
   "source": [
    "import pandas as pd\n",
    "import numpy as np\n",
    "import matplotlib.pyplot as plt\n",
    "import seaborn as sns\n",
    "import datetime as dt\n",
    "from typing import Union\n",
    "from IPython.display import display\n",
    "import os\n",
    "from pathlib import Path\n",
    "from statsmodels.tsa.seasonal import seasonal_decompose"
   ]
  },
  {
   "cell_type": "markdown",
   "metadata": {},
   "source": [
    "Ustawienie seed dla zachowania powtarzalności wyników."
   ]
  },
  {
   "cell_type": "code",
   "execution_count": null,
   "metadata": {},
   "outputs": [],
   "source": [
    "np.random.seed(50)"
   ]
  },
  {
   "cell_type": "markdown",
   "metadata": {},
   "source": [
    "### Wczytanie danych"
   ]
  },
  {
   "cell_type": "code",
   "execution_count": null,
   "metadata": {
    "scrolled": true
   },
   "outputs": [],
   "source": [
    "fileName = \"WarsztatyATLRekomendacjeFixed.csv\"\n",
    "\n",
    "# ścieżki dostępu do plików\n",
    "dataFolderPath = os.path.join(os.path.pardir, \"data\")\n",
    "\n",
    "dataRawPath = os.path.join(dataFolderPath, fileName)\n",
    "\n",
    "dataRaw = pd.read_csv(dataRawPath, parse_dates=True, encoding=\"unicode_escape\")"
   ]
  },
  {
   "cell_type": "markdown",
   "metadata": {},
   "source": [
    "### Cheat Sheet:\n",
    "1. Wczytanie danych do DataFrame'u z pliku *.csv* z zastosowaniem kodowania:\n",
    "    ```python\n",
    "    df = pd.read_csv(\"ścieżka_do_pliku.csv\", encoding=\"unicode_escape\")\n",
    "    ```\n",
    "\n",
    "\n",
    "2. Wyświetlanie `n` pierwszych wierszy DataFrame'u (`n` domyślnie równe 5):\n",
    "    * jeśli to ostatnia komenda w komórce:\n",
    "    ```python\n",
    "    df.head(n)\n",
    "    ```\n",
    "    * jeśli tak nie jest:\n",
    "    ```python\n",
    "    display(df.head(n))\n",
    "    ```\n",
    "\n",
    "\n",
    "3. Obrót DataFrame'u (tzw. *pivot*) sumujący wartości z ```kolumna_do_zliczenia``` we wszystkich kombinacjach     ```kolumna_x``` z ```kolumna_y```:\n",
    "    ```python\n",
    "    df = pd.pivot_table(df, values='kolumna_do_zliczania', index='kolumna_x', columns='kolumna_y', aggfunc=np.sum)\n",
    "    ```\n",
    "\n",
    "\n",
    "4. Zsumowanie wartości z danej kolumny `kolumna_wartości` względem `kolumna_grupująca`:\n",
    "    ```python\n",
    "    df.groupby(\"kolumna_grupująca\")[\"kolumna_wartości\"].sum()\n",
    "    ```\n",
    "\n",
    "\n",
    "5. Sortowanie malejące wierszy w tabeli DataFrame według wartości w kolumnie/kolumnach:\n",
    "    * dla jednej kolumny\n",
    "    ```python\n",
    "    df = df.sort_values('kolumna', ascending=False)\n",
    "    ```\n",
    "    * dla wielu kolumn\n",
    "    ```python\n",
    "    df = df.sort_values(['kolumna_1', 'kolumna_2'], ascending=False)\n",
    "    ```\n",
    "\n",
    "\n",
    "6. Usuwanie duplikatów wierszy na podstawie wartości w kolumnie:\n",
    "    ```python\n",
    "    df = df.drop_duplicates('nazwa_kolumny', keep='first')\n",
    "    ```\n",
    "\n",
    "\n",
    "7. Uzyskiwanie wartości minimalnej / maksymalnej  w kolumnie:\n",
    "    ```python\n",
    "    df[\"kolumna\"].min() / df[\"kolumna\"].max()\n",
    "    ```\n",
    "\n",
    "\n",
    "8. Zliczenie częstotliwości występowania wartości w kolumnie:\n",
    "    ```python\n",
    "    df[\"kolumna\"].value_counts()\n",
    "    ```\n",
    "\n",
    "\n",
    "9. Otrzymywanie zbioru podstawowych statystyk dotyczących danej kolumny:\n",
    "    ```python\n",
    "    df[\"kolumna\"].describe()\n",
    "    ```\n",
    "\n",
    "\n",
    "10. Przedstawianie wynikowej serii na wykresie:\n",
    "    ```python\n",
    "    plt.plot(seria)\n",
    "    ```\n",
    "    \n",
    "11. Filtrowanie DataFrame'u, tak by zawierał tylko rekordy zawierające określoną wartość kolumny:\n",
    "    ```python\n",
    "    df[df['kolumna'] == wartość_kolumny] (tylko rekordy, gdzie wartość kolumny jest równa wartość_kolumny) \n",
    "    df[df['kolumna'].isin(lista_wartości)] (tylko rekordy, gdzie wartość kolumny znajduje się w liście wartości lista_wartości)\n",
    "    df[df['kolumna'].str.contains(sub_string) (tylko rekordy, gdzie zawartość kolumny kolumna zawiera sub_string)\n",
    "    ```\n",
    "    \n",
    "12. Negowanie warunków logicznych\n",
    "    ```python\n",
    "    df[~(df['kolumna'] == wartość_kolumny)] (tylko rekordy, gdzie wartość kolumny jest różna od wartość_kolumny) \n",
    "    ```\n",
    "    \n",
    "13. Operacje na indeksie tabeli:\n",
    "    * ręczne ustawienie indeksu tabeli\n",
    "    ```python\n",
    "    df = df.set_index(kolumna)\n",
    "    ```\n",
    "    * sortowanie tabeli po indeksie\n",
    "    ```python\n",
    "    df = df.sort_index()\n",
    "    ```\n",
    "\n",
    "14. Łączenie tabel po kluczu\n",
    "    ```python\n",
    "    merged = pd.merge(dataset_1, dataset_2, on = kolumna_klucz, how = rodzaj_łączenia)\n",
    "    ```\n",
    "    \n",
    "15. Warunkowe wypełnianie wartości kolumny\n",
    "    ```python\n",
    "    df[nowa_kolumna] = np.where(warunek_logiczny_uzupełniania_wartości, wartość_przy_spełnionym_warunku, wartość_alternatywna) \n",
    "    ```"
   ]
  },
  {
   "cell_type": "markdown",
   "metadata": {},
   "source": [
    "## Use Case 00 - Sprawdźmy jakie dane dostaliśmy od Klienta"
   ]
  },
  {
   "cell_type": "markdown",
   "metadata": {},
   "source": [
    "#### Szybki przegląd danych - Jak wygląda nasz zbiór danych?"
   ]
  },
  {
   "cell_type": "code",
   "execution_count": null,
   "metadata": {},
   "outputs": [],
   "source": [
    "dataRaw.head(10)"
   ]
  },
  {
   "cell_type": "markdown",
   "metadata": {},
   "source": [
    "#### Szybki przegląd danych - Jakie kolumny zawiera nasz zbiór danych?"
   ]
  },
  {
   "cell_type": "code",
   "execution_count": null,
   "metadata": {},
   "outputs": [],
   "source": [
    "dataRaw.columns"
   ]
  },
  {
   "cell_type": "markdown",
   "metadata": {},
   "source": [
    "#### Szybki przegląd danych - Jakie typy danych zawieraja nasz zbiór danych domyślnie?"
   ]
  },
  {
   "cell_type": "code",
   "execution_count": null,
   "metadata": {},
   "outputs": [],
   "source": [
    "dataRaw.dtypes"
   ]
  },
  {
   "cell_type": "markdown",
   "metadata": {},
   "source": [
    "#### Szybki przegląd danych - Czy w zbiorze danych występują nulle?"
   ]
  },
  {
   "cell_type": "code",
   "execution_count": null,
   "metadata": {},
   "outputs": [],
   "source": [
    "dataRaw.info()"
   ]
  },
  {
   "cell_type": "markdown",
   "metadata": {},
   "source": [
    "## Zadania 00 - Sprawdźmy co zawierają nasze dane"
   ]
  },
  {
   "cell_type": "code",
   "execution_count": null,
   "metadata": {},
   "outputs": [],
   "source": [
    "def load_parse_data(file_path):\n",
    "    \"\"\"Funkcja wczytuje i przetwarza dane, usuwa kolumny zawierające zerowe wartości oraz\n",
    "    określa rodzaj danych dla poszczególnych kolumn.\"\"\"\n",
    "    global df\n",
    "    if file_path:\n",
    "        df = pd.read_csv(file_path, encoding=\"unicode_escape\")\n",
    "    elif df is ...:\n",
    "        raise ValueError(\"The DataFrame cannot be equal to ..., you need to load the data first!\")\n",
    "    df = df.dropna()\n",
    "    df[\"InvoiceDate\"] = pd.to_datetime(df[\"InvoiceDate\"])\n",
    "    df[\"Quantity\"] = df.Quantity.astype(\"int32\")\n",
    "    df[\"UnitPrice\"] = df.UnitPrice.astype(\"float32\")\n",
    "    df[\"CustomerID\"] = df.CustomerID.astype(\"int16\")\n",
    "    df[\"Country\"] = df.Country.astype(\"category\")\n",
    "    \n",
    "    return df"
   ]
  },
  {
   "cell_type": "markdown",
   "metadata": {},
   "source": [
    "#### Zadanie 0.1\n",
    "Wczytaj dane do DataFrame'u oraz zaprezentuj początkowe wiersze."
   ]
  },
  {
   "cell_type": "code",
   "execution_count": null,
   "metadata": {},
   "outputs": [],
   "source": [
    "# TODO: Zdefiniuj zmienną \"df_path\" tak, aby zawierała ścieżkę do danych. \n",
    "# Możesz wykorzystać zmienną definiowaną wcześniej lub podać ręcznie ścieżkę do danych.\n",
    "df_path = ...\n",
    "\n",
    "df = load_parse_data(df_path)\n",
    "\n",
    "# TODO: wyświetl 10 pierwszych wierszy DataFramu \"df\"\n",
    "..."
   ]
  },
  {
   "cell_type": "markdown",
   "metadata": {},
   "source": [
    "#### Zadanie 0.2\n",
    "Bardzo często przychodzi nam w pracy konieczność klasyfikacji klientów. Na początek, zobaczmy czy osoby w zbiorze danych to klienci indywidualni czy biznesowi. Najłatwiej będzie to sprawdzić przez sprawdzenie krotności produktów kupowanych przez klientów."
   ]
  },
  {
   "cell_type": "code",
   "execution_count": null,
   "metadata": {},
   "outputs": [],
   "source": [
    "# TODO: Zdefiniuj zmienną \"top_10_quantities\" dla wyświetlenia pierwszych dziesięciu najczęściej spotykanej krotności produktów\n",
    "top_10_quantities = ...\n",
    "top_10_quantities.sort_index(inplace=True)\n",
    "top_10_quantities"
   ]
  },
  {
   "cell_type": "code",
   "execution_count": null,
   "metadata": {
    "scrolled": true
   },
   "outputs": [],
   "source": [
    "# TODO: Zdefiniuj zmienną \"top_10_quantities\" dla wyświetlenia pierwszych dziesięciu najczęściej spotykanej krotności produktów. \n",
    "# Wynik przedstaw w procentach.\n",
    "top_10_quantities = df.Quantity.value_counts(...).head(10)\n",
    "top_10_quantities.sort_index(inplace=True)\n",
    "top_10_quantities"
   ]
  },
  {
   "cell_type": "markdown",
   "metadata": {},
   "source": [
    "#### Zadanie 0.3\n",
    "Bądź czujny! Jeśli dane nie zawierają niespodzianek, to znaczy, że jeszcze ich nie odkryłeś. Sprawdźmy jak przedstawia się cały zakres ilości dla wszystkich produktów."
   ]
  },
  {
   "cell_type": "code",
   "execution_count": null,
   "metadata": {},
   "outputs": [],
   "source": [
    "# TODO: Sprawdź zakres wartości kolumny \"Quantity\"\n",
    "df_quantity_min = ...\n",
    "df_quantity_max = ...\n",
    "print(df_quantity_min)\n",
    "print(df_quantity_max)"
   ]
  },
  {
   "cell_type": "code",
   "execution_count": null,
   "metadata": {},
   "outputs": [],
   "source": [
    "df.describe()"
   ]
  },
  {
   "cell_type": "markdown",
   "metadata": {},
   "source": [
    "##### TODO: Jak myślisz, czemu w danych występują wartości ujemne?"
   ]
  },
  {
   "cell_type": "markdown",
   "metadata": {},
   "source": [
    "#### Zadanie 0.4\n",
    "Upewnijmy się, że rzeczywiście ujemna liczba produktów znajduje pokrycie w uprzednich zamówieniach klienta."
   ]
  },
  {
   "cell_type": "code",
   "execution_count": null,
   "metadata": {},
   "outputs": [],
   "source": [
    "is_lesseq_0_quant_cust = (df.groupby(\"CustomerID\")[\"Quantity\"].sum() <= 0)\n",
    "customers_with_negative_product_quantity = is_lesseq_0_quant_cust[is_lesseq_0_quant_cust].index\n",
    "# TODO: Wyświetl zamówienia pierwszego Klienta z listy customers_with_negative_product_quantity \n",
    "# i sprawdź czy zamówienie anulowane zawiera produkty, które zostały wcześniej kupione\n",
    "df[df.CustomerID == ...]"
   ]
  },
  {
   "cell_type": "markdown",
   "metadata": {},
   "source": [
    "Tak jak przewidywaliśmy, są tutaj wycofane zamówienia. Litera `C` w numerze rachunku najpewniej oznacza \"Cancelled\" (anulowane)."
   ]
  },
  {
   "cell_type": "markdown",
   "metadata": {},
   "source": [
    "#### Zadanie 0.5\n",
    "Ważnym aspektem w pracy z danymi jest sprawdzenie przedziału czasu jakiego dotyczą dane. "
   ]
  },
  {
   "cell_type": "code",
   "execution_count": null,
   "metadata": {},
   "outputs": [],
   "source": [
    "# TODO: Sprawdź ile z jakiego okresu pochodzą dane udostępnione przez Klienta \n",
    "# (liczba dni między pierwszym i ostatnim zakupem)\n",
    "(... - ...).round('D')"
   ]
  },
  {
   "cell_type": "markdown",
   "metadata": {},
   "source": [
    "#### Zadanie 0.6\n",
    "Połowa za nami. Wejdźmy na wyższy poziom! Co powiesz na dodawanie kolumn do DataFrame'u? W tym przypadku, dodaj jednolitą datę rachunku oraz kwotę sprzedaży dla danego wiersza. Następnie, przedstaw wykres obrazujący swoje wyniki!"
   ]
  },
  {
   "cell_type": "code",
   "execution_count": null,
   "metadata": {},
   "outputs": [],
   "source": [
    "def plot_sales(sales_per_week):\n",
    "    plt.figure(figsize=(15,3))\n",
    "    labels = np.array([f\"Y{t[0] % 2000} W{t[1]:02}\" for t in sales_per_week.index])\n",
    "    n_values = len(sales_per_week.values)\n",
    "    plt.plot(range(n_values), sales_per_week.values)\n",
    "    spread = np.arange(n_values, step=n_values // 13)\n",
    "    plt.xticks(spread, labels[spread])\n",
    "    plt.title(\"Sales per Week\")"
   ]
  },
  {
   "cell_type": "code",
   "execution_count": null,
   "metadata": {},
   "outputs": [],
   "source": [
    "# TODO: dodaj trzy nowe kolumny do DataFrame'u: rok i tydzień rachunku oraz\n",
    "# całkowitą kwotę sprzedaży per wiersz\n",
    "yearWeekDay = df.InvoiceDate.dt.isocalendar()\n",
    "df[\"InvoiceWeek\"] = ....week\n",
    "df[\"InvoiceYear\"] = ....year\n",
    "df[\"ItemTotalAmount\"] = ... * ...\n",
    "sales_per_week = df.groupby([\"InvoiceYear\", \"InvoiceWeek\"])[\"ItemTotalAmount\"].sum()\n",
    "# TODO: pokaż wykresy przedstawiające sprzedaż w czasie\n",
    "# następnie oceń czy w danych występuje sezonowość \n",
    "plot_sales(...)\n"
   ]
  },
  {
   "cell_type": "markdown",
   "metadata": {},
   "source": [
    "#### Zadanie 0.7\n",
    "Często, będąc analitykiem, możesz mieć potrzebę uzyskiwać podstawowe statystyki dot. danych. Dowiedzmy się nieco więcej na temat kolumny `Country` (państwo)."
   ]
  },
  {
   "cell_type": "code",
   "execution_count": null,
   "metadata": {},
   "outputs": [],
   "source": [
    "# TODO: sprawdź ile jest państw w zbiorze danych, które z nich jest\n",
    "# najczęściej występujące i ile wierszy przynależy do tego kraju\n",
    "df.....describe()"
   ]
  },
  {
   "cell_type": "markdown",
   "metadata": {},
   "source": [
    "#### Zadanie 0.8\n",
    "Bywa, że niekiedy zamiast na ściśle określonych wartościach, bazujemy na kodach, które je reprezentują. W takich przypadkach, by ułatwić zrozumienie sobie i innym warto stworzyć rodzaj przyporządkowania kodu do tejże wartości. Poniżej, utwórz takie przyporządkowanie dla kodu magazynowego (`StockCode`) i pełnej nazwy produktu, albo inaczej jego opisu (`Description`)."
   ]
  },
  {
   "cell_type": "code",
   "execution_count": null,
   "metadata": {},
   "outputs": [],
   "source": [
    "# TODO: Zdefiniuj zmienną \"STOCK_DESC_MAP\" przez wyjęcię z dataframu kolumn \"StockCode\" i \"Description\", \n",
    "# a następnie usuń duplikujące się wiersze. Określ ręcznie indeks tabeli wykorzystując kolumnę \"StockCode\"\n",
    "STOCK_DESC_MAP = df[[..., ...]].drop_duplicates(subset=[\"StockCode\"]).set_index(...)\n",
    "\n",
    "STOCK_DESC_MAP = STOCK_DESC_MAP.squeeze()"
   ]
  },
  {
   "cell_type": "markdown",
   "metadata": {},
   "source": [
    "# Use Case 1 - Proste rekomendacje"
   ]
  },
  {
   "cell_type": "markdown",
   "metadata": {},
   "source": [
    "### Sub Use Case 1 - Rekomendowanie produktów najczęściej kupowanych w zadanym przedziale czasu"
   ]
  },
  {
   "cell_type": "code",
   "execution_count": null,
   "metadata": {},
   "outputs": [],
   "source": [
    "# Znalezienie daty ostatniego zakupu\n",
    "today = df['InvoiceDate'].max()"
   ]
  },
  {
   "cell_type": "code",
   "execution_count": null,
   "metadata": {},
   "outputs": [],
   "source": [
    "def find_the_most_popular_products_in_time_period(number_of_days_taken_into_period, the_latest_date):\n",
    "    \n",
    "    most_popular_products_in_time_period = df[(df['InvoiceDate'] <= the_latest_date) & (df['InvoiceDate'] >= the_latest_date - pd.Timedelta(days=number_of_days_taken_into_period))]\\\n",
    "    .groupby(\"Description\")\\\n",
    "    .size()\\\n",
    "    .reset_index(name='counts')\\\n",
    "    .sort_values(\"counts\",ascending=False)\\\n",
    "    .head(5)\n",
    "    \n",
    "    top_recommendations = most_popular_products_in_time_period['Description'].tolist()\n",
    "    \n",
    "    return most_popular_products_in_time_period, top_recommendations"
   ]
  },
  {
   "cell_type": "code",
   "execution_count": null,
   "metadata": {},
   "outputs": [],
   "source": [
    "number_of_days_taken_into_period = 7\n",
    "most_popular_products_in_time_period, top_recommendations = find_the_most_popular_products_in_time_period(number_of_days_taken_into_period, today)\n",
    "\n",
    "print(\"Produkty najczęściej kupowane w ciągu ostatnich {} dni:\".format(number_of_days_taken_into_period))\n",
    "print(most_popular_products_in_time_period)\n",
    "\n",
    "print(\"-----------------------------------------------\")\n",
    "print(\"Rekomendacje dla klienta 12583\")\n",
    "print(top_recommendations)\n",
    "\n",
    "print(\"-----------------------------------------------\")\n",
    "print(\"Rekomendacje dla klienta 17420\")\n",
    "print(top_recommendations)\n",
    "\n",
    "print(\"-----------------------------------------------\")\n",
    "print(\"Rekomendacje dla klienta 17760\")\n",
    "print(top_recommendations)\n",
    "print(\"-----------------------------------------------\")"
   ]
  },
  {
   "cell_type": "code",
   "execution_count": null,
   "metadata": {},
   "outputs": [],
   "source": [
    "number_of_days_taken_into_period = 30\n",
    "most_popular_products_in_time_period, top_recommendations = find_the_most_popular_products_in_time_period(number_of_days_taken_into_period, today)\n",
    "\n",
    "print(\"Produkty najczęściej kupowane w ciągu ostatnich {} dni:\".format(number_of_days_taken_into_period))\n",
    "print(most_popular_products_in_time_period)\n",
    "\n",
    "print(\"-----------------------------------------------\")\n",
    "print(\"Rekomendacje dla klienta 12583\")\n",
    "print(top_recommendations)\n",
    "\n",
    "print(\"-----------------------------------------------\")\n",
    "print(\"Rekomendacje dla klienta 17420\")\n",
    "print(top_recommendations)\n",
    "\n",
    "print(\"-----------------------------------------------\")\n",
    "print(\"Rekomendacje dla klienta 17760\")\n",
    "print(top_recommendations)\n",
    "print(\"-----------------------------------------------\")"
   ]
  },
  {
   "cell_type": "markdown",
   "metadata": {},
   "source": [
    "#### Zadanie 1 - Znalezienie produktów najczęściej anulowanych/reklamowanych"
   ]
  },
  {
   "cell_type": "code",
   "execution_count": null,
   "metadata": {},
   "outputs": [],
   "source": [
    "# Dostosuj funkcję tak, aby zwracała 20 najczęściej zwracanych produktów w zadanym okresie\n",
    "def find_the_most_cancelled_products_in_time_period(number_of_days_taken_into_period, the_latest_date):\n",
    "    \n",
    "    # TODO: Uzupełnij warunki filtrowania tak, aby df_canceled zawierało wyłącznie anulowane zamówienia\n",
    "    # TODO - Opcja 1 - Podejście związane z filtrowaniem InvoiceNo - musi zawierać literę \"C\"\n",
    "    df_canceled = df[...]    \n",
    "    \n",
    "    # TODO - Opcja 2 - Podejście związane z filtrowaniem Quantity - musi być ujemne\n",
    "    df_canceled = df[...] \n",
    "    \n",
    "    most_cancelled_products_in_time_period = df_canceled[(df_canceled['InvoiceDate'] <= the_latest_date) & (df_canceled['InvoiceDate'] >= the_latest_date - pd.Timedelta(days=number_of_days_taken_into_period))]\\\n",
    "    .groupby(\"Description\")\\\n",
    "    .size()\\\n",
    "    .reset_index(name='counts')\\\n",
    "    .sort_values(\"counts\",ascending=False)\\\n",
    "    .head(20)\n",
    "    \n",
    "    blacklist = most_cancelled_products_in_time_period['Description'].tolist()\n",
    "    \n",
    "    return most_cancelled_products_in_time_period, blacklist"
   ]
  },
  {
   "cell_type": "code",
   "execution_count": null,
   "metadata": {
    "scrolled": false
   },
   "outputs": [],
   "source": [
    "today = df['InvoiceDate'].max()\n",
    "period_days = 30\n",
    "\n",
    "# TODO: Uzupełnij parametry funkcji tak, aby uwzględniała liczbę dni podaną w zmiennej \"period_days\" oraz ostatnią datę zakupu zawartą w zmiennej \"today\"\n",
    "most_cancelled_products_in_time_period, blacklist = find_the_most_cancelled_products_in_time_period(..., ...)\n",
    "\n",
    "print(\"Produkty najczęściej zwracane w ciągu ostatnich {} dni:\".format(number_of_days_taken_into_period))\n",
    "print(most_cancelled_products_in_time_period)\n",
    "\n",
    "print(\"-----------------------------------------------\")\n",
    "print(\"Lista 20 najcześciej zwracanych produktów:\")\n",
    "print(blacklist)"
   ]
  },
  {
   "cell_type": "markdown",
   "metadata": {},
   "source": [
    "#### Zadanie 2 - Rekomendowanie produktów najczęściej kupowanych pomijając produkty najczęściej zwracane/anulowane/reklamowane"
   ]
  },
  {
   "cell_type": "code",
   "execution_count": null,
   "metadata": {},
   "outputs": [],
   "source": [
    "def find_the_most_popular_products_in_time_period_include_blacklist(number_of_days_taken_into_period, the_latest_date, blacklist):\n",
    "    \n",
    "    # TODO 1: Uzupełnij brakującą nazwę kolumny, którą powinniśmy wykorzystać do odfiltrowania numerów produktów zgodnie z produktami podanymi w parametrze \"blacklist\" \n",
    "    # TODO 2: Uzupełnij parametr metody \"isin\" tak, aby wykluczyć produkty znajdujące się na liście podanej w parametrze funkcji\n",
    "    df_after_blacklist_drop = df[....isin(...)]\n",
    "    \n",
    "    # TODO: Uzupełnij brakującą nazwę kolumny, którą powinniśmy wykorzystać do odfiltrowania odpowiednich dat, uwzględniając parametry \"the_latest_date\" oraz \"number_of_days_taken_into_period\"\n",
    "    most_popular_products_in_time_period = df_after_blacklist_drop[(df_after_blacklist_drop[...] <= the_latest_date) & (df_after_blacklist_drop[...] >= the_latest_date - pd.Timedelta(days=number_of_days_taken_into_period))]\\\n",
    "    .groupby(\"Description\")\\\n",
    "    .size()\\\n",
    "    .reset_index(name='counts')\\\n",
    "    .sort_values(\"counts\",ascending=False)\\\n",
    "    .head(5)\n",
    "    \n",
    "    top_recommendations = most_popular_products_in_time_period['Description'].tolist()\n",
    "    \n",
    "    return most_popular_products_in_time_period, top_recommendations"
   ]
  },
  {
   "cell_type": "code",
   "execution_count": null,
   "metadata": {},
   "outputs": [],
   "source": [
    "today = df['InvoiceDate'].max()\n",
    "number_of_days_taken_into_period = 30\n",
    "\n",
    "#TODO: Uzupełnij parametry funkcji find_the_most_popular_products_in_time_period_include_blacklist tak by uwzględniała \n",
    "# zmienne \"today\", \"number_of_days_taken_into_period\" oraz \"blacklist\"\n",
    "most_popular_products_in_time_period, top_recommendations = find_the_most_popular_products_in_time_period_include_blacklist(..., ..., ...)\n",
    "\n",
    "print(\"Produkty najczęściej kupowane (uwzględniając produkty anulowane) w ciągu ostatnich {} dni:\".format(number_of_days_taken_into_period))\n",
    "print(most_popular_products_in_time_period)\n",
    "\n",
    "print(\"-----------------------------------------------\")\n",
    "print(\"Rekomendacje dla klienta 12583\")\n",
    "print(top_recommendations)\n",
    "\n",
    "print(\"-----------------------------------------------\")\n",
    "print(\"Rekomendacje dla klienta 17420\")\n",
    "print(top_recommendations)\n",
    "\n",
    "print(\"-----------------------------------------------\")\n",
    "print(\"Rekomendacje dla klienta 17760\")\n",
    "print(top_recommendations)\n",
    "print(\"-----------------------------------------------\")"
   ]
  },
  {
   "cell_type": "markdown",
   "metadata": {},
   "source": [
    "#### Czy rekomendacje uległy zmianie?"
   ]
  },
  {
   "cell_type": "code",
   "execution_count": null,
   "metadata": {},
   "outputs": [],
   "source": [
    "number_of_days_taken_into_period = 30\n",
    "most_popular_products_in_time_period, top_recommendations = find_the_most_popular_products_in_time_period(number_of_days_taken_into_period, today)\n",
    "\n",
    "print(\"Produkty najczęściej kupowane w ciągu ostatnich {} dni:\".format(number_of_days_taken_into_period))\n",
    "print(most_popular_products_in_time_period)\n",
    "\n",
    "print(\"-----------------------------------------------\")\n",
    "print(\"Rekomendacje dla klienta 12583\")\n",
    "print(top_recommendations)\n",
    "\n",
    "print(\"-----------------------------------------------\")\n",
    "print(\"Rekomendacje dla klienta 17420\")\n",
    "print(top_recommendations)\n",
    "\n",
    "print(\"-----------------------------------------------\")\n",
    "print(\"Rekomendacje dla klienta 17760\")\n",
    "print(top_recommendations)\n",
    "print(\"-----------------------------------------------\")"
   ]
  },
  {
   "cell_type": "markdown",
   "metadata": {},
   "source": [
    "### Sub Use Case 2 - Rekomendowanie produktów trendujących "
   ]
  },
  {
   "cell_type": "code",
   "execution_count": null,
   "metadata": {},
   "outputs": [],
   "source": [
    "def calculate_purchases_in_time_period(df,the_latest_date, period_start, period_end):\n",
    "    \n",
    "    df = df[(df['InvoiceDate'] <= the_latest_date - pd.Timedelta(days=period_start)) & (df['InvoiceDate'] >= the_latest_date - pd.Timedelta(days=period_end))]\\\n",
    "    .groupby(\"Description\")\\\n",
    "    .size()\\\n",
    "    .reset_index(name='counts_{}_{}_days'.format(period_start, period_end))\\\n",
    "    .sort_values('counts_{}_{}_days'.format(period_start, period_end),ascending=False)\n",
    "    \n",
    "    return df\n",
    "\n",
    "def calculate_period_to_period_ratio(counts_period_1, counts_period_2, period_1_start, period_1_end, period_2_start, period_2_end):\n",
    "    \n",
    "    merged_periods = pd.merge(counts_period_1, counts_period_2 ,on='Description', how='left')\n",
    "    merged_periods['period_to_period_ratio'] = merged_periods['counts_{}_{}_days'.format(period_1_start, period_1_end )] / merged_periods['counts_{}_{}_days'.format(period_2_start, period_2_end)]\n",
    "    \n",
    "    return merged_periods\n",
    "\n",
    "def find_trending_products(df, trending_threshold, period_1_start, period_1_end):\n",
    "    \n",
    "    df = df[df['period_to_period_ratio']>trending_threshold]\\\n",
    "    .sort_values('counts_{}_{}_days'.format(period_1_start, period_1_end ), ascending=False)\\\n",
    "    .head(10)\n",
    "    \n",
    "    return df"
   ]
  },
  {
   "cell_type": "code",
   "execution_count": null,
   "metadata": {},
   "outputs": [],
   "source": [
    "period_1_start, period_1_end = 0 , 7\n",
    "period_2_start, period_2_end = 8 , 30\n",
    "\n",
    "counts_period_1 = calculate_purchases_in_time_period(df,today, period_1_start, period_1_end)\n",
    "counts_period_2 = calculate_purchases_in_time_period(df,today, period_2_start, period_2_end)\n",
    "\n",
    "comparison_df = calculate_period_to_period_ratio(counts_period_1, counts_period_2, period_1_start, period_1_end, period_2_start, period_2_end)\n",
    "\n",
    "trending_products = find_trending_products(comparison_df, 2.0, period_1_start, period_1_end)"
   ]
  },
  {
   "cell_type": "code",
   "execution_count": null,
   "metadata": {},
   "outputs": [],
   "source": [
    "trending_products"
   ]
  },
  {
   "cell_type": "markdown",
   "metadata": {},
   "source": [
    "#### Zadanie 3 - Sprawdź czy produkty z punktu powyżej były sprzedawane wcześniej, czy zostały dopiero wprowadzone do oferty"
   ]
  },
  {
   "cell_type": "code",
   "execution_count": null,
   "metadata": {},
   "outputs": [],
   "source": [
    "def calculate_if_sold_before(df, trending_products, the_latest_date, period_end):\n",
    "    \n",
    "    earliest_purchases_per_product = df.groupby('Description')['InvoiceDate'].min().reset_index(name='earliest_purchase')\n",
    "    earliest_purchases_per_product = earliest_purchases_per_product[['Description', 'earliest_purchase']]\n",
    "    \n",
    "    # TODO: Uzupełnij brakujące pola pd.merge() zgodnie z dokumentacją metody pd.merge(dataset1, dataset2, klucz, metoda)\n",
    "    # TODO 1: Uzupełnij brakujące nazwy datasetów, które musimy połączyć aby otrzymać informacje o produktach trencujących dodając informację o pierwszej dacie zakupu\n",
    "    # TODO 2: Uzupełnij jaka kolumna może być kluczem dla łączenia danych z dataframów trending_products i earliest_purchases_per_product\n",
    "    trending_products_with_earliest_purchase = pd.merge(..., ..., on=..., how='left')\n",
    "    trending_products_with_earliest_purchase['period_end'] = the_latest_date - pd.Timedelta(days=period_end)\n",
    "    \n",
    "    # TODO: Uzupełnij warunkowe określenie wartości kolumny \"was_product_available_before\" tak, aby przyjmowała ona wartości \"yes\" / \"no\"\n",
    "    # Jeśli pierwszy zakup produktu wystąpił przed końcem okresu uwzględnianego w obliczeniach \n",
    "    trending_products_with_earliest_purchase['was_product_available_before'] = np.where(...,\n",
    "                                                                                        ...,\n",
    "                                                                                        ...)\n",
    "\n",
    "    return trending_products_with_earliest_purchase"
   ]
  },
  {
   "cell_type": "code",
   "execution_count": null,
   "metadata": {
    "scrolled": false
   },
   "outputs": [],
   "source": [
    "trending_recommendations = calculate_if_sold_before(df,trending_products, today, period_2_end)\n",
    "trending_recommendations"
   ]
  },
  {
   "cell_type": "code",
   "execution_count": null,
   "metadata": {},
   "outputs": [],
   "source": [
    "trending_recommendations_without_new_produts = trending_recommendations[trending_recommendations['was_product_available_before'] == 'yes']\n",
    "trending_recommendations_without_new_produts"
   ]
  },
  {
   "cell_type": "markdown",
   "metadata": {},
   "source": [
    "### Sub Use Case 3 - Rekomendacje uwzględniające segmentację Klientów"
   ]
  },
  {
   "cell_type": "markdown",
   "metadata": {},
   "source": [
    "RFM - Recency, Frequency, Monetary"
   ]
  },
  {
   "cell_type": "code",
   "execution_count": null,
   "metadata": {},
   "outputs": [],
   "source": [
    "df['order_value'] = df['Quantity'] * df['UnitPrice']\n",
    "df['today'] = today\n",
    "df['time_difference_in_days'] = (df['today'] - df['InvoiceDate'])/ pd.Timedelta(days=1)"
   ]
  },
  {
   "cell_type": "code",
   "execution_count": null,
   "metadata": {},
   "outputs": [],
   "source": [
    "# order_id\n",
    "rfm_values = df.groupby(\"CustomerID\").agg({\"order_value\":'sum', \"InvoiceNo\":pd.Series.nunique, \"time_difference_in_days\":min}).reset_index()\n",
    "rfm_values.columns = ['CustomerID', 'customer_value', 'customer_frequency', 'customer_recency']"
   ]
  },
  {
   "cell_type": "code",
   "execution_count": null,
   "metadata": {},
   "outputs": [],
   "source": [
    "def calculate_quartiles_values(df,columns_list, quartiles_list):\n",
    "    \n",
    "    quartiles_dict = {}\n",
    "    \n",
    "    for column in columns_list:\n",
    "        for quartile in quartiles_list:\n",
    "            quartiles_dict[\"{}_{}\".format(column,quartile)] = df[column].quantile(quartile)\n",
    "            \n",
    "    return quartiles_dict"
   ]
  },
  {
   "cell_type": "code",
   "execution_count": null,
   "metadata": {},
   "outputs": [],
   "source": [
    "columns_used_for_RFM = ['customer_value', 'customer_frequency', 'customer_recency']\n",
    "quartiles_list = [0.33, 0.66]\n",
    "\n",
    "quartiles_values = calculate_quartiles_values(rfm_values, columns_used_for_RFM, quartiles_list)"
   ]
  },
  {
   "cell_type": "code",
   "execution_count": null,
   "metadata": {},
   "outputs": [],
   "source": [
    "recency_conditions = [\n",
    "    (rfm_values['customer_recency'] <= quartiles_values['customer_recency_0.33']),\n",
    "    (quartiles_values['customer_recency_0.66'] > rfm_values['customer_recency']) & (rfm_values['customer_recency']>= quartiles_values['customer_recency_0.33']),\n",
    "    (rfm_values['customer_recency'] > quartiles_values['customer_recency_0.66'])]\n",
    "recency_choices = [100, 200, 300]\n",
    "\n",
    "frequency_conditions = [\n",
    "    (rfm_values['customer_frequency'] >= quartiles_values['customer_frequency_0.66']),\n",
    "    (quartiles_values['customer_frequency_0.66'] > rfm_values['customer_frequency']) & (rfm_values['customer_frequency']>= quartiles_values['customer_frequency_0.33']),\n",
    "    (rfm_values['customer_frequency'] < quartiles_values['customer_frequency_0.33'])]\n",
    "frequency_choices = [10, 20, 30]\n",
    "\n",
    "value_conditions = [\n",
    "    (rfm_values['customer_value'] >= quartiles_values['customer_value_0.66']),\n",
    "    (quartiles_values['customer_value_0.66'] > rfm_values['customer_value']) & (rfm_values['customer_value']>= quartiles_values['customer_value_0.33']),\n",
    "    (rfm_values['customer_value'] < quartiles_values['customer_value_0.33'])]\n",
    "value_choices = [1, 2, 3]\n",
    "\n",
    "rfm_values['recency_segment'] = np.select(recency_conditions, recency_choices)\n",
    "rfm_values['frequency_segment'] = np.select(frequency_conditions, frequency_choices)\n",
    "rfm_values['monetary_segment'] = np.select(value_conditions, value_choices)\n",
    "\n",
    "rfm_values['RFM_score'] = rfm_values['recency_segment'] + rfm_values['frequency_segment'] + rfm_values['monetary_segment']"
   ]
  },
  {
   "cell_type": "code",
   "execution_count": null,
   "metadata": {},
   "outputs": [],
   "source": [
    "plt.figure(figsize=(20,8))\n",
    "sns.countplot(data = rfm_values, x='RFM_score')"
   ]
  },
  {
   "cell_type": "markdown",
   "metadata": {},
   "source": [
    "#### Zadanie 4 - Wygeneruj rekomendacje typu \"Top 5 najpopularniejszych produktów\" uwzględniając Segmenty klientów"
   ]
  },
  {
   "cell_type": "code",
   "execution_count": null,
   "metadata": {
    "scrolled": true
   },
   "outputs": [],
   "source": [
    "# TODO: Uzupełnij po jakim kluczu możemy połączyć dane z datasetów df oraz rfm_values \n",
    "df = pd.merge(df, rfm_values[['CustomerID', 'RFM_score']], on =..., how='left')"
   ]
  },
  {
   "cell_type": "code",
   "execution_count": null,
   "metadata": {},
   "outputs": [],
   "source": [
    "# Ta funkcja znajduje 5 najpopularniejszych produktów uwzględniając zadany przedział czasowy i segment\n",
    "def find_the_most_popular_products_in_time_period_for_segment(df, number_of_days_taken_into_period, the_latest_date, segment_number):\n",
    "    \n",
    "    df = df[df['RFM_score'] == segment_number]\n",
    "    \n",
    "    most_popular_products_in_time_period_for_segment = df[(df['InvoiceDate'] <= the_latest_date) & (df['InvoiceDate'] >= the_latest_date - pd.Timedelta(days=number_of_days_taken_into_period))]\\\n",
    "    .groupby(\"Description\")\\\n",
    "    .size()\\\n",
    "    .reset_index(name='counts')\\\n",
    "    .sort_values(\"counts\",ascending=False)\\\n",
    "    .head(5)\n",
    "    \n",
    "    top_recommendations_for_segment = most_popular_products_in_time_period_for_segment['Description'].tolist()\n",
    "    \n",
    "    return most_popular_products_in_time_period_for_segment, top_recommendations_for_segment\n",
    "\n",
    "\n",
    "# Ta funkcja przygotowuje rekomendacje dla wybranego klienta, uwzględniając jego segment oraz przedział czasowy\n",
    "# TODO: Uzupełnij definicję funkcji tak, aby wygenerować rekomendacje dla Klienta od CustomerID określonym przez parametr \"customer_id\"\n",
    "def find_recommendations_for_customer(df, number_of_days_taken_into_period, the_latest_date, customer_id):\n",
    "    # TODO 1: Jaką kolumnę dataframu musimy porównać z parametrem \"customer_id\" aby znaleźć rekoedy należące tylko do tego Klienta?\n",
    "    # TODO 2: Jaką kolumną dataframu musimy wyciągnąć, aby przypisać do zmiennej \"customer_segment\" segment RFM Klienta?\n",
    "    customer_segment = df[df[...]==customer_id][...].values[0]\n",
    "    \n",
    "    most_popular_products_in_time_period_for_segment, top_recommendations_for_segment = find_the_most_popular_products_in_time_period_for_segment(df,number_of_days_taken_into_period, today, customer_segment)\n",
    "    \n",
    "    return most_popular_products_in_time_period_for_segment, top_recommendations_for_segment"
   ]
  },
  {
   "cell_type": "code",
   "execution_count": null,
   "metadata": {},
   "outputs": [],
   "source": [
    "number_of_days_taken_into_period = 30\n",
    "today = df['InvoiceDate'].max()\n",
    "\n",
    "# TODO: Uzupełnij brakujący parametr funkcji tak, aby otrzymać rekomendacje kolejno dla Klientów o ID: 12583, 17420, 17760\n",
    "recommendationd_for_customer_1, top_recommendations_for_customer_1 = find_recommendations_for_customer(df,number_of_days_taken_into_period, today, ...)\n",
    "recommendationd_for_customer_2, top_recommendations_for_customer_2 = find_recommendations_for_customer(df,number_of_days_taken_into_period, today, ...)\n",
    "recommendationd_for_customer_3, top_recommendations_for_customer_3 = find_recommendations_for_customer(df,number_of_days_taken_into_period, today, ...)"
   ]
  },
  {
   "cell_type": "code",
   "execution_count": null,
   "metadata": {},
   "outputs": [],
   "source": [
    "print(\"-----------------------------------------------\")\n",
    "print(\"Rekomendacje uwzględniające segment dla klienta 12583\")\n",
    "print(top_recommendations_for_customer_1)\n",
    "\n",
    "print(\"-----------------------------------------------\")\n",
    "print(\"Rekomendacje uwzględniające segment dla klienta 17420\")\n",
    "print(top_recommendations_for_customer_2)\n",
    "\n",
    "print(\"-----------------------------------------------\")\n",
    "print(\"Rekomendacje uwzględniające segment dla klienta 17760\")\n",
    "print(top_recommendations_for_customer_3)\n",
    "print(\"-----------------------------------------------\")"
   ]
  },
  {
   "cell_type": "markdown",
   "metadata": {},
   "source": [
    "# Use Case 2 - Rekomendacje spersonalizowane"
   ]
  },
  {
   "cell_type": "markdown",
   "metadata": {},
   "source": [
    "Podstawą generowania rekomendacji za pomocą collaborative-filteringu jest ocena podobieństwa między Klientami. Jednym z algorytmów, który nadaje się do wyznaczenia podobieństwa koszyków Klientów zbioru danych jest algorytm k-NN (k Najbliższych Sąsiadów). \n",
    "Do jego zastosowania potrzebna jest tabela określająca jakie produkty kupili poszczególni klienci oraz liczba sąsiadów (podobnych klientów)."
   ]
  },
  {
   "cell_type": "code",
   "execution_count": null,
   "metadata": {},
   "outputs": [],
   "source": [
    "def preprocess_data(df):\n",
    "    \"\"\"Funkcja wykonuje obrót tabeli, a następnie zlicza brakujące wartości i\n",
    "    dokonuje ich zaprzeczenia. Rezultat to tabela, określająca czy produkt\n",
    "    został zakupiony przez danego klienta.\"\"\"\n",
    "    \n",
    "    truth_table = ~df.pivot_table(index=\"CustomerID\",columns=\"StockCode\",values=\"Quantity\").isna()\n",
    "    \n",
    "    return truth_table"
   ]
  },
  {
   "cell_type": "code",
   "execution_count": null,
   "metadata": {},
   "outputs": [],
   "source": [
    "truth_table = preprocess_data(df)"
   ]
  },
  {
   "cell_type": "markdown",
   "metadata": {},
   "source": [
    "Poniżej model generuje odległości od sąsiadów oraz klucze numeryczne dla dwóch najbliższych sąsiadów każdego z klientów."
   ]
  },
  {
   "cell_type": "code",
   "execution_count": null,
   "metadata": {},
   "outputs": [],
   "source": [
    "def prep_model(df,n_neighbours) :\n",
    "    \"\"\"Funkcja przygotowuje model oparty na algorytmie najbliższego sąsiada i\n",
    "    na jego podstawie wylicza odległości oraz klucze numeryczne dla\n",
    "    najbliższych sąsiadów wszystkich wartości.\"\"\"\n",
    "    \n",
    "    from sklearn.neighbors import NearestNeighbors\n",
    "    \n",
    "    knn = NearestNeighbors(metric=\"jaccard\")\n",
    "    knn.fit(df)\n",
    "    distances, indices = knn.kneighbors(df, n_neighbors=n_neighbours)\n",
    "    \n",
    "    return distances, indices"
   ]
  },
  {
   "cell_type": "code",
   "execution_count": null,
   "metadata": {},
   "outputs": [],
   "source": [
    "distances, indices = prep_model(truth_table, 3)"
   ]
  },
  {
   "cell_type": "markdown",
   "metadata": {},
   "source": [
    "Zestaw rekomendacji jest spersonalizowany względem losowo wybranego ID klienta. Jeśli chcesz otrzymać zestaw dla innego klienta, odswież komórkę."
   ]
  },
  {
   "cell_type": "code",
   "execution_count": null,
   "metadata": {},
   "outputs": [],
   "source": [
    "def prepare_recommendations(customerId, truth_table, indices,):\n",
    "    \"\"\"Funkcja przygotowuje rekomendacje w postaci produktów dla konkretnego (indentyfikatora) klienta.\"\"\"\n",
    "    cust_idx = truth_table.index.get_loc(customerId)\n",
    "    closest = list(map(lambda v: truth_table.index[v], indices[cust_idx, 1:]))\n",
    "    recs = set()\n",
    "    \n",
    "    for recommender in closest:\n",
    "        potential = (truth_table.loc[recommender] ^ truth_table.loc[customerId]) & (~truth_table.loc[customerId])\n",
    "        potential = potential[potential].index.tolist()\n",
    "        recs.update(potential)\n",
    "        \n",
    "    return recs\n",
    "\n",
    "def recommend(customerId, truth_table, indices, stock_desc_map,upsell=False):\n",
    "    \"\"\"Funkcja przedstawia wygenerowane rekomendacje w postaci tekstowej.\"\"\"\n",
    "    recs = prepare_recommendations(customerId, truth_table, indices)\n",
    "    \n",
    "    if upsell:\n",
    "        # odrzucając produkty szczególne, jak opłaty pocztowe\n",
    "        recs = set(filter(lambda r: not str.isalpha(r), recs))\n",
    "        # wybierz przeciętnie (medianowo) najdroższy produkt\n",
    "        recs = [df[df.StockCode.isin(recs)].groupby(\"StockCode\")[\"UnitPrice\"].median().idxmax()]\n",
    "        \n",
    "    if recs:\n",
    "        str_recs = \",\\n\".join([\"* \" + stock_desc_map[r] for r in recs])\n",
    "        return f'You may like the following product(s):\\n{str_recs}\\nTake a look!'\n",
    "    else:\n",
    "        return f\"No recommendations available.\""
   ]
  },
  {
   "cell_type": "code",
   "execution_count": null,
   "metadata": {},
   "outputs": [],
   "source": [
    "random_cust = np.random.choice(df.CustomerID)\n",
    "result = recommend(random_cust, truth_table, indices, STOCK_DESC_MAP)\n",
    "print(result)"
   ]
  },
  {
   "cell_type": "markdown",
   "metadata": {},
   "source": [
    "#### Zadanie 1 - Wygeneruj rekomendacje dla Klientów o id: 12583,17420,17760. Spojrz jakie produkty są im polecane i oceń poprawność rekomendacji. Czy widzisz sposób na usprawnienie tych rekomendacji?"
   ]
  },
  {
   "cell_type": "code",
   "execution_count": null,
   "metadata": {},
   "outputs": [],
   "source": [
    "selected_customer_ids = [... , ... , ...]\n",
    "\n",
    "# TODO: Uzupełnij parametry pętli tak, aby wygenerować rekomendacje dla Klientów o id określonych w liście \"selected_customer_ids\"\n",
    "for cust_id in ...:\n",
    "    print(f\"Customer {cust_id}:\")\n",
    "    print(recommend(cust_id, truth_table, indices, STOCK_DESC_MAP), \"\\n\")"
   ]
  },
  {
   "cell_type": "code",
   "execution_count": null,
   "metadata": {},
   "outputs": [],
   "source": [
    "print(\"-----------------------------------------------\")\n",
    "print(\"Rekomendacje dla klienta 12583\")\n",
    "print(recommend(12583, truth_table, indices, STOCK_DESC_MAP), \"\\n\")"
   ]
  },
  {
   "cell_type": "code",
   "execution_count": null,
   "metadata": {},
   "outputs": [],
   "source": [
    "print(\"-----------------------------------------------\")\n",
    "print(\"Rekomendacje dla klienta 17420\")\n",
    "print(recommend(17420, truth_table, indices, STOCK_DESC_MAP), \"\\n\")"
   ]
  },
  {
   "cell_type": "code",
   "execution_count": null,
   "metadata": {},
   "outputs": [],
   "source": [
    "print(\"-----------------------------------------------\")\n",
    "print(\"Rekomendacje dla klienta 17760\")\n",
    "print(recommend(17760, truth_table, indices, STOCK_DESC_MAP), \"\\n\")"
   ]
  },
  {
   "cell_type": "markdown",
   "metadata": {},
   "source": [
    "#### Zadanie 2 - Wygeneruj rekomendacje proponujące up-sell i ocen rekomendacje. W jaki sposób możemy dalej rozwijać rekomendacje spersonalizowane?"
   ]
  },
  {
   "cell_type": "code",
   "execution_count": null,
   "metadata": {},
   "outputs": [],
   "source": [
    "# TODO: wykorzystaj funkcję recommend (zdefiniowaną na kilka komórek wyżej) by\n",
    "# zastosować up-sell dla klienta z kilkudziesięcioma\n",
    "# rekomendowanymi produktami\n",
    "upsold_result = recommend(..., truth_table, indices, STOCK_DESC_MAP, ...)\n",
    "print(upsold_result)"
   ]
  },
  {
   "cell_type": "markdown",
   "metadata": {},
   "source": [
    "### Rozwiązania Zadań 00 "
   ]
  },
  {
   "cell_type": "markdown",
   "metadata": {},
   "source": [
    "1. \n",
    "    ```python\n",
    "    # zrób: wczytaj dane do zmiennej przy użyciu jednej z powyższych funkcji\n",
    "    df = pd.read_csv(\"data.csv\", encoding=\"unicode_escape\")\n",
    "    df = load_parse_data()\n",
    "    # zrób: wyświetl dwanaście pierwszych wierszy\n",
    "    ```\n",
    "\n",
    "\n",
    "2. \n",
    "    ```python\n",
    "    # zrób: zdefiniuj poniższą zmienną w celu wyświetlenia pierwszych dziesięciu\n",
    "    # najczęściej spotykanych ilości produktów\n",
    "    top_10_quantities = df.Quantity.value_counts().head(10)\n",
    "    top_10_quantities.sort_index(inplace=True)\n",
    "    top_10_quantities\n",
    "    ```\n",
    "\n",
    "\n",
    "3. \n",
    "    ```python\n",
    "    # zrób: przedstaw zakres ilości produktów w zbiorze danych\n",
    "    df.Quantity.max(), df.Quantity.min()\n",
    "    ```\n",
    "\n",
    "\n",
    "4. \n",
    "    ```python\n",
    "    is_lesseq_0_quant_cust = (df.groupby(\"CustomerID\")[\"Quantity\"].sum() <= 0)\n",
    "    unusual_customerIds = is_lesseq_0_quant_cust[is_lesseq_0_quant_cust].index\n",
    "    # zrób: wyświetl zbiór danych dla pierwszego (najmniejszego) względem\n",
    "    # indentyfikatora klienta spośród nietypowych klientów\n",
    "    df[df.CustomerID == unusual_customerIds[0]]\n",
    "    ```\n",
    "\n",
    "\n",
    "5. \n",
    "    ```python\n",
    "    # zrób: oblicz ile dni zawartych jest w danych\n",
    "    (df.InvoiceDate.max() - df.InvoiceDate.min()).round('D')\n",
    "    ```\n",
    "\n",
    "\n",
    "6. \n",
    "    ```python\n",
    "    # zrób: dodaj dwie nowe kolumny do ramy danych: ujednoliconą datę rachunku\n",
    "    # (datę rachunku z wyzerowaną częścią czasu) oraz całkowitą kwotę sprzedaży\n",
    "    # per wiersz\n",
    "    df[\"NormalizedInvoiceDate\"] = df.InvoiceDate.dt.normalize()\n",
    "    df[\"ItemTotalAmount\"] = df.Quantity * df.UnitPrice\n",
    "    sales_per_day = df.groupby(\"NormalizedInvoiceDate\")[\"ItemTotalAmount\"].sum()\n",
    "    # zrób: stwórz wykres przedstawiający sprzedaż w czasie\n",
    "    # po wykonaniu wszystkich pozostałych zadań wróć by go upiększyć!\n",
    "    plt.plot(sales_per_day)\n",
    "    ```\n",
    "\n",
    "\n",
    "7. \n",
    "    ```python\n",
    "    # zrób: sprawdź ile jest państw w zbiorze danych, które z nich jest\n",
    "    # najczęściej występujące i ile wierszy przynależy do tego kraju\n",
    "    df.Country.describe()\n",
    "    ```\n",
    "\n",
    "\n",
    "8. \n",
    "    ```python\n",
    "    # zrób: stwórz tablicę mieszającą pozwalającą na powiązanie kodu\n",
    "    # magazynowego produktu z jego opisem\n",
    "    STOCK_DESC_MAP = df[[\n",
    "        \"StockCode\", \"Description\"\n",
    "    ]].drop_duplicates(subset=[\"StockCode\"]).set_index(\"StockCode\")\n",
    "    STOCK_DESC_MAP = STOCK_DESC_MAP.squeeze()\n",
    "    ```"
   ]
  },
  {
   "cell_type": "markdown",
   "metadata": {},
   "source": [
    "### Rozwiązania Zadań dla Use Case 1 "
   ]
  },
  {
   "cell_type": "markdown",
   "metadata": {},
   "source": [
    "1. Zadanie 1 - Part 1\n",
    "    ```python\n",
    "def find_the_most_cancelled_products_in_time_period(number_of_days_taken_into_period, the_latest_date):\n",
    "    \n",
    "    df_canceled = df[df['InvoiceNo'].str.contains('C')]    \n",
    "    \n",
    "    df_canceled = df[df['Quantity'] < 0] \n",
    "    \n",
    "    most_cancelled_products_in_time_period = df_canceled[(df_canceled['InvoiceDate'] <= the_latest_date) & (df_canceled['InvoiceDate'] >= the_latest_date - pd.Timedelta(days=number_of_days_taken_into_period))]\\\n",
    "    .groupby(\"StockCode\")\\\n",
    "    .size()\\\n",
    "    .reset_index(name='counts')\\\n",
    "    .sort_values(\"counts\",ascending=False)\\\n",
    "    .head(20)\n",
    "    \n",
    "    blacklist = most_cancelled_products_in_time_period['StockCode'].tolist()\n",
    "    \n",
    "    return most_cancelled_products_in_time_period, blacklist\n",
    "    ```\n",
    "    \n",
    "2. Zadanie 1 - Part 2\n",
    "    ```python\n",
    "    today = df['InvoiceDate'].max()\n",
    "    period_days = 30\n",
    "\n",
    "    most_cancelled_products_in_time_period, blacklist = find_the_most_cancelled_products_in_time_period(period_days, today)\n",
    "\n",
    "    print(\"Produkty najczęściej zwracane w ciągu ostatnich {} dni:\".format(number_of_days_taken_into_period))\n",
    "    print(most_cancelled_products_in_time_period)\n",
    "\n",
    "    print(\"-----------------------------------------------\")\n",
    "    print(\"Lista 20 najcześciej zwracanych produktów:\")\n",
    "    print(blacklist)\n",
    "    ```\n",
    "    \n",
    "3. Zadanie 2\n",
    "    ```python\n",
    "def find_the_most_popular_products_in_time_period_include_blacklist(number_of_days_taken_into_period, the_latest_date, blacklist):\n",
    "    \n",
    "    df_after_blacklist_drop = df[~df['StockCode'].isin(blacklist)]\n",
    "    \n",
    "    most_popular_products_in_time_period = df_after_blacklist_drop[(df_after_blacklist_drop['InvoiceDate'] <= the_latest_date) & (df_after_blacklist_drop['InvoiceDate'] >= the_latest_date - pd.Timedelta(days=number_of_days_taken_into_period))]\\\n",
    "    .groupby(\"StockCode\")\\\n",
    "    .size()\\\n",
    "    .reset_index(name='counts')\\\n",
    "    .sort_values(\"counts\",ascending=False)\\\n",
    "    .head(5)\n",
    "    \n",
    "    top_recommendations = most_popular_products_in_time_period['StockCode'].tolist()\n",
    "    \n",
    "    return most_popular_products_in_time_period, top_recommendations\n",
    "    ```\n",
    "    ```python\n",
    "    today = df['InvoiceDate'].max()\n",
    "    number_of_days_taken_into_period = 30\n",
    "\n",
    "    #TODO: Uzupełnij parametry funkcji find_the_most_popular_products_in_time_period_include_blacklist tak by uwzględniała \n",
    "    # zmienne \"today\", \"number_of_days_taken_into_period\" oraz \"blacklist\"\n",
    "    most_popular_products_in_time_period, top_recommendations = find_the_most_popular_products_in_time_period_include_blacklist(number_of_days_taken_into_period, today, blacklist)\n",
    "\n",
    "    print(\"Produkty najczęściej kupowane (uwzględniając produkty anulowane) w ciągu ostatnich {} dni:\".format(number_of_days_taken_into_period))\n",
    "    print(most_popular_products_in_time_period)\n",
    "\n",
    "    print(\"-----------------------------------------------\")\n",
    "    print(\"Rekomendacje dla klienta 12583\")\n",
    "    print(top_recommendations)\n",
    "\n",
    "    print(\"-----------------------------------------------\")\n",
    "    print(\"Rekomendacje dla klienta 17420\")\n",
    "    print(top_recommendations)\n",
    "\n",
    "    print(\"-----------------------------------------------\")\n",
    "    print(\"Rekomendacje dla klienta 17760\")\n",
    "    print(top_recommendations)\n",
    "    print(\"-----------------------------------------------\")\n",
    "    ```\n",
    "    \n",
    "4. Zadanie 3\n",
    "    ```python\n",
    "def calculate_if_sold_before(df, trending_products, the_latest_date, period_end):\n",
    "    \n",
    "    earliest_purchases_per_product = df.groupby('StockCode')['InvoiceDate'].min().reset_index(name='earliest_purchase')\n",
    "    earliest_purchases_per_product = earliest_purchases_per_product[['StockCode', 'earliest_purchase']]\n",
    "    \n",
    "    trending_products_with_earliest_purchase = pd.merge(trending_products, earliest_purchases_per_product, on=\"StockCode\", how='left')\n",
    "    trending_products_with_earliest_purchase['period_end'] = the_latest_date - pd.Timedelta(days=period_end)\n",
    "    \n",
    "    trending_products_with_earliest_purchase['was_product_available_before'] = np.where(trending_products_with_earliest_purchase['earliest_purchase'] < trending_products_with_earliest_purchase['period_end'],\n",
    "                                                                                        \"yes\",\n",
    "                                                                                        \"no\")\n",
    "    \n",
    "    return trending_products_with_earliest_purchase\n",
    "    ```\n",
    "    \n",
    "5. Zadanie 4 - Part 1\n",
    "    ```python\n",
    "    df = pd.merge(df, rfm_values[['CustomerID', 'RFM_score']], on ='CustomerID', how='left')\n",
    "    ```\n",
    "6. Zadanie 4 - Part 2\n",
    "    ```python\n",
    "        def find_the_most_popular_products_in_time_period_for_segment(df, number_of_days_taken_into_period, the_latest_date, segment_number):\n",
    "\n",
    "            df = df[df['RFM_score'] == segment_number]\n",
    "\n",
    "            most_popular_products_in_time_period_for_segment = df[(df['InvoiceDate'] <= the_latest_date) & (df['InvoiceDate'] >= the_latest_date - pd.Timedelta(days=number_of_days_taken_into_period))]\\\n",
    "            .groupby(\"StockCode\")\\\n",
    "            .size()\\\n",
    "            .reset_index(name='counts')\\\n",
    "            .sort_values(\"counts\",ascending=False)\\\n",
    "            .head(5)\n",
    "\n",
    "            top_recommendations_for_segment = most_popular_products_in_time_period_for_segment['StockCode'].tolist()\n",
    "\n",
    "            return most_popular_products_in_time_period_for_segment, top_recommendations_for_segment\n",
    "\n",
    "        def find_recommendations_for_customer(df, number_of_days_taken_into_period, the_latest_date, customer_id):\n",
    "            customer_segment = df[df['CustomerID']==customer_id]['RFM_score'].get_values()[0]\n",
    "\n",
    "            most_popular_products_in_time_period_for_segment, top_recommendations_for_segment = find_the_most_popular_products_in_time_period_for_segment(df,number_of_days_taken_into_period, today, customer_segment)\n",
    "\n",
    "            return most_popular_products_in_time_period_for_segment, top_recommendations_for_segment\n",
    "    ```    \n",
    "    \n",
    "7. Zadanie 4 - Part 3\n",
    "    ```python\n",
    "    number_of_days_taken_into_period = 30\n",
    "    today = df['InvoiceDate'].max()\n",
    "\n",
    "    recommendationd_for_customer_1, top_recommendations_for_customer_1 = find_recommendations_for_customer(df,number_of_days_taken_into_period, today, 12583)\n",
    "    recommendationd_for_customer_2, top_recommendations_for_customer_2 = find_recommendations_for_customer(df,number_of_days_taken_into_period, today, 17420)\n",
    "    recommendationd_for_customer_3, top_recommendations_for_customer_3 = find_recommendations_for_customer(df,number_of_days_taken_into_period, today, 17760)\n",
    "\n",
    "    ```"
   ]
  },
  {
   "cell_type": "markdown",
   "metadata": {},
   "source": [
    "### Rozwiązania Zadań dla Use Case 2"
   ]
  },
  {
   "cell_type": "markdown",
   "metadata": {},
   "source": [
    "1. Zadanie 1  \n",
    "    ```python\n",
    "    selected_customer_ids = [12583,17420,17760]\n",
    "\n",
    "    # TODO: Uzupełnij parametry pętli tak, aby wygenerować rekomendacje dla Klientów o id określonych w liście \"selected_customer_ids\"\n",
    "    for cust_id in selected_customer_ids:\n",
    "        print(f\"Customer {cust_id}:\")\n",
    "        print(recommend(cust_id, truth_table, indices, STOCK_DESC_MAP), \"\\n\")\n",
    "    ```\n",
    "\n",
    "\n",
    "2. Zadanie 2\n",
    "    ```python\n",
    "    # TODO: wykorzystaj funkcję recommend (zdefiniowaną na kilka komórek wyżej) by\n",
    "    # zastosować up-sell dla klienta z kilkudziesięcioma\n",
    "    # rekomendowanymi produktami\n",
    "    upsold_result = recommend(12583, truth_table, indices, STOCK_DESC_MAP, upsell= True)\n",
    "    print(upsold_result)\n",
    "    ```"
   ]
  },
  {
   "cell_type": "code",
   "execution_count": null,
   "metadata": {},
   "outputs": [],
   "source": []
  }
 ],
 "metadata": {
  "kernelspec": {
   "display_name": "Python 3",
   "language": "python",
   "name": "python3"
  },
  "language_info": {
   "codemirror_mode": {
    "name": "ipython",
    "version": 3
   },
   "file_extension": ".py",
   "mimetype": "text/x-python",
   "name": "python",
   "nbconvert_exporter": "python",
   "pygments_lexer": "ipython3",
   "version": "3.7.4"
  }
 },
 "nbformat": 4,
 "nbformat_minor": 2
}
